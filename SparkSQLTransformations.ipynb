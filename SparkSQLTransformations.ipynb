{
 "cells": [
  {
   "cell_type": "code",
   "execution_count": 1,
   "metadata": {
    "collapsed": false
   },
   "outputs": [
    {
     "data": {
      "text/plain": [
       "'local[*]'"
      ]
     },
     "execution_count": 1,
     "metadata": {},
     "output_type": "execute_result"
    }
   ],
   "source": [
    "# to be loaded everytime when Jupyter Notebook starts\n",
    "from pyspark import SparkContext\n",
    "sc =SparkContext()\n",
    "sc.master"
   ]
  },
  {
   "cell_type": "code",
   "execution_count": 2,
   "metadata": {
    "collapsed": true
   },
   "outputs": [],
   "source": [
    "from pyspark.sql import SQLContext\n",
    "sqlContext = SQLContext(sc)"
   ]
  },
  {
   "cell_type": "code",
   "execution_count": 3,
   "metadata": {
    "collapsed": true
   },
   "outputs": [],
   "source": [
    "from pyspark.sql import Row"
   ]
  },
  {
   "cell_type": "code",
   "execution_count": 5,
   "metadata": {
    "collapsed": false
   },
   "outputs": [],
   "source": [
    "#loading the data\n",
    "df1 = sc.parallelize( [Row(cid='101', name='Alice', age=25, state='ca'),\\\n",
    "                       Row(cid='102', name='Bob', age=15, state='ny'),\\\n",
    "                       Row(cid='103', name='Bob', age=23, state='nc'), \\\n",
    "                       Row(cid='104', name='Ram', age=45, state='fl')])\\\n",
    "                    .toDF()\n",
    "\n",
    "df2 = sc.parallelize(\\\n",
    "[Row(cid='101', date='2015-03-12', product='toaster', price=200),\\\n",
    " Row(cid='104', date='2015-04-12', product='iron', price=120),\\\n",
    " Row(cid='102', date='2014-12-31', product='fridge', price=850),\\\n",
    " Row(cid='102', date='2015-02-03', product='cup', price=5)]).toDF()"
   ]
  },
  {
   "cell_type": "code",
   "execution_count": 6,
   "metadata": {
    "collapsed": false
   },
   "outputs": [
    {
     "name": "stdout",
     "output_type": "stream",
     "text": [
      "+---+---+-----+-----+\n",
      "|age|cid| name|state|\n",
      "+---+---+-----+-----+\n",
      "| 25|101|Alice|   ca|\n",
      "| 15|102|  Bob|   ny|\n",
      "| 23|103|  Bob|   nc|\n",
      "| 45|104|  Ram|   fl|\n",
      "+---+---+-----+-----+\n",
      "\n"
     ]
    }
   ],
   "source": [
    "df1.show()"
   ]
  },
  {
   "cell_type": "code",
   "execution_count": 7,
   "metadata": {
    "collapsed": false
   },
   "outputs": [
    {
     "name": "stdout",
     "output_type": "stream",
     "text": [
      "+---+----------+-----+-------+\n",
      "|cid|      date|price|product|\n",
      "+---+----------+-----+-------+\n",
      "|101|2015-03-12|  200|toaster|\n",
      "|104|2015-04-12|  120|   iron|\n",
      "|102|2014-12-31|  850| fridge|\n",
      "|102|2015-02-03|    5|    cup|\n",
      "+---+----------+-----+-------+\n",
      "\n"
     ]
    }
   ],
   "source": [
    "df2.show()"
   ]
  },
  {
   "cell_type": "code",
   "execution_count": 8,
   "metadata": {
    "collapsed": false
   },
   "outputs": [
    {
     "data": {
      "text/plain": [
       "Row(age=25, cid='101', name='Alice', state='ca')"
      ]
     },
     "execution_count": 8,
     "metadata": {},
     "output_type": "execute_result"
    }
   ],
   "source": [
    "df1.first()"
   ]
  },
  {
   "cell_type": "code",
   "execution_count": 9,
   "metadata": {
    "collapsed": false
   },
   "outputs": [
    {
     "data": {
      "text/plain": [
       "[Row(age=25, cid='101', name='Alice', state='ca'),\n",
       " Row(age=15, cid='102', name='Bob', state='ny')]"
      ]
     },
     "execution_count": 9,
     "metadata": {},
     "output_type": "execute_result"
    }
   ],
   "source": [
    "df1.take(2)"
   ]
  },
  {
   "cell_type": "code",
   "execution_count": 10,
   "metadata": {
    "collapsed": false
   },
   "outputs": [
    {
     "name": "stdout",
     "output_type": "stream",
     "text": [
      "+---+---+-----+-----+\n",
      "|age|cid| name|state|\n",
      "+---+---+-----+-----+\n",
      "| 25|101|Alice|   ca|\n",
      "| 15|102|  Bob|   ny|\n",
      "| 23|103|  Bob|   nc|\n",
      "+---+---+-----+-----+\n",
      "only showing top 3 rows\n",
      "\n"
     ]
    }
   ],
   "source": [
    "df1.show(3)"
   ]
  },
  {
   "cell_type": "code",
   "execution_count": 11,
   "metadata": {
    "collapsed": false
   },
   "outputs": [
    {
     "name": "stdout",
     "output_type": "stream",
     "text": [
      "+---+---+-----+-----+\n",
      "|age|cid| name|state|\n",
      "+---+---+-----+-----+\n",
      "| 25|101|Alice|   ca|\n",
      "| 15|102|  Bob|   ny|\n",
      "+---+---+-----+-----+\n",
      "\n"
     ]
    }
   ],
   "source": [
    "df1.limit(2).show()"
   ]
  },
  {
   "cell_type": "code",
   "execution_count": 12,
   "metadata": {
    "collapsed": false
   },
   "outputs": [
    {
     "name": "stdout",
     "output_type": "stream",
     "text": [
      "+-------+------------------+\n",
      "|summary|               age|\n",
      "+-------+------------------+\n",
      "|  count|                 4|\n",
      "|   mean|              27.0|\n",
      "| stddev|12.754084313139327|\n",
      "|    min|                15|\n",
      "|    max|                45|\n",
      "+-------+------------------+\n",
      "\n"
     ]
    }
   ],
   "source": [
    "df1.describe().show()"
   ]
  },
  {
   "cell_type": "code",
   "execution_count": 20,
   "metadata": {
    "collapsed": false
   },
   "outputs": [
    {
     "data": {
      "text/plain": [
       "['age', 'cid', 'name', 'state']"
      ]
     },
     "execution_count": 20,
     "metadata": {},
     "output_type": "execute_result"
    }
   ],
   "source": [
    "df1.columns"
   ]
  },
  {
   "cell_type": "code",
   "execution_count": 21,
   "metadata": {
    "collapsed": false
   },
   "outputs": [
    {
     "data": {
      "text/plain": [
       "[('age', 'bigint'), ('cid', 'string'), ('name', 'string'), ('state', 'string')]"
      ]
     },
     "execution_count": 21,
     "metadata": {},
     "output_type": "execute_result"
    }
   ],
   "source": [
    "df1.dtypes"
   ]
  },
  {
   "cell_type": "code",
   "execution_count": 24,
   "metadata": {
    "collapsed": false
   },
   "outputs": [
    {
     "data": {
      "text/plain": [
       "StructType(List(StructField(age,LongType,true),StructField(cid,StringType,true),StructField(name,StringType,true),StructField(state,StringType,true)))"
      ]
     },
     "execution_count": 24,
     "metadata": {},
     "output_type": "execute_result"
    }
   ],
   "source": [
    "df1.schema"
   ]
  },
  {
   "cell_type": "code",
   "execution_count": 28,
   "metadata": {
    "collapsed": false
   },
   "outputs": [
    {
     "name": "stdout",
     "output_type": "stream",
     "text": [
      "+---+---+-----+-----+\n",
      "|age|cid| name|state|\n",
      "+---+---+-----+-----+\n",
      "| 25|101|Alice|   ca|\n",
      "| 15|102|  Bob|   ny|\n",
      "| 23|103|  Bob|   nc|\n",
      "| 45|104|  Ram|   fl|\n",
      "| 25|101|Alice|   ca|\n",
      "| 45|104| Bob1|  ny1|\n",
      "+---+---+-----+-----+\n",
      "\n"
     ]
    }
   ],
   "source": [
    "df3 = sc.parallelize( [Row(cid='101', name='Alice', age=25, state='ca'),\\\n",
    "                       Row(cid='102', name='Bob', age=15, state='ny'),\\\n",
    "                       Row(cid='103', name='Bob', age=23, state='nc'), \\\n",
    "                       Row(cid='104', name='Ram', age=45, state='fl'),\\\n",
    "                       Row(cid='101', name='Alice', age=25, state='ca'), \\\n",
    "                       Row(cid='104', name='Bob1', age=45, state='ny1')])\\\n",
    "                    .toDF()\n",
    "df3.show()"
   ]
  },
  {
   "cell_type": "code",
   "execution_count": 29,
   "metadata": {
    "collapsed": false
   },
   "outputs": [
    {
     "name": "stdout",
     "output_type": "stream",
     "text": [
      "+---+---+-----+-----+\n",
      "|age|cid| name|state|\n",
      "+---+---+-----+-----+\n",
      "| 23|103|  Bob|   nc|\n",
      "| 15|102|  Bob|   ny|\n",
      "| 45|104| Bob1|  ny1|\n",
      "| 45|104|  Ram|   fl|\n",
      "| 25|101|Alice|   ca|\n",
      "+---+---+-----+-----+\n",
      "\n"
     ]
    }
   ],
   "source": [
    "df3.distinct().show() \n",
    "# removes only rows with identical values for all columns."
   ]
  },
  {
   "cell_type": "code",
   "execution_count": 30,
   "metadata": {
    "collapsed": false
   },
   "outputs": [
    {
     "name": "stdout",
     "output_type": "stream",
     "text": [
      "+---+---+-----+-----+\n",
      "|age|cid| name|state|\n",
      "+---+---+-----+-----+\n",
      "| 45|104|  Ram|   fl|\n",
      "| 25|101|Alice|   ca|\n",
      "| 15|102|  Bob|   ny|\n",
      "+---+---+-----+-----+\n",
      "\n"
     ]
    }
   ],
   "source": [
    "df1.drop_duplicates([\"name\"]).show()"
   ]
  },
  {
   "cell_type": "code",
   "execution_count": 31,
   "metadata": {
    "collapsed": false
   },
   "outputs": [
    {
     "name": "stdout",
     "output_type": "stream",
     "text": [
      "+---+---+-----+-----+\n",
      "|age|cid| name|state|\n",
      "+---+---+-----+-----+\n",
      "| 45|104|  Ram|   fl|\n",
      "| 25|101|Alice|   ca|\n",
      "| 23|103|  Bob|   nc|\n",
      "| 15|102|  Bob|   ny|\n",
      "+---+---+-----+-----+\n",
      "\n"
     ]
    }
   ],
   "source": [
    "df1.sort(df1[\"age\"].desc()).show()"
   ]
  },
  {
   "cell_type": "code",
   "execution_count": 32,
   "metadata": {
    "collapsed": false
   },
   "outputs": [
    {
     "name": "stdout",
     "output_type": "stream",
     "text": [
      "+---+---+-----+-----+\n",
      "|age|cid| name|state|\n",
      "+---+---+-----+-----+\n",
      "| 15|102|  Bob|   ny|\n",
      "| 23|103|  Bob|   nc|\n",
      "| 25|101|Alice|   ca|\n",
      "| 45|104|  Ram|   fl|\n",
      "+---+---+-----+-----+\n",
      "\n"
     ]
    }
   ],
   "source": [
    "df1.sort(df1[\"age\"].asc()).show()"
   ]
  },
  {
   "cell_type": "code",
   "execution_count": 34,
   "metadata": {
    "collapsed": false
   },
   "outputs": [
    {
     "name": "stdout",
     "output_type": "stream",
     "text": [
      "+---+---+-----+-----+\n",
      "|age|cid| name|state|\n",
      "+---+---+-----+-----+\n",
      "| 15|102|  Bob|   ny|\n",
      "| 23|103|  Bob|   nc|\n",
      "| 25|101|Alice|   ca|\n",
      "| 45|104|  Ram|   fl|\n",
      "+---+---+-----+-----+\n",
      "\n"
     ]
    }
   ],
   "source": [
    "df1.sort(\"age\",ascending=True).show()"
   ]
  },
  {
   "cell_type": "code",
   "execution_count": 35,
   "metadata": {
    "collapsed": false
   },
   "outputs": [
    {
     "name": "stdout",
     "output_type": "stream",
     "text": [
      "+---+---+-----+-----+-------------+\n",
      "|age|cid| name|state|age-dog-years|\n",
      "+---+---+-----+-----+-------------+\n",
      "| 25|101|Alice|   ca|          175|\n",
      "| 15|102|  Bob|   ny|          105|\n",
      "| 23|103|  Bob|   nc|          161|\n",
      "| 45|104|  Ram|   fl|          315|\n",
      "+---+---+-----+-----+-------------+\n",
      "\n"
     ]
    }
   ],
   "source": [
    "df1.withColumn(\"age-dog-years\",df1[\"age\"]*7).show()"
   ]
  },
  {
   "cell_type": "code",
   "execution_count": 36,
   "metadata": {
    "collapsed": false
   },
   "outputs": [
    {
     "name": "stdout",
     "output_type": "stream",
     "text": [
      "+----+---+-----+-----+\n",
      "|age2|cid| name|state|\n",
      "+----+---+-----+-----+\n",
      "|  25|101|Alice|   ca|\n",
      "|  15|102|  Bob|   ny|\n",
      "|  23|103|  Bob|   nc|\n",
      "|  45|104|  Ram|   fl|\n",
      "+----+---+-----+-----+\n",
      "\n"
     ]
    }
   ],
   "source": [
    "df1.withColumnRenamed(\"age\", \"age2\").show()"
   ]
  },
  {
   "cell_type": "code",
   "execution_count": 37,
   "metadata": {
    "collapsed": false
   },
   "outputs": [
    {
     "name": "stdout",
     "output_type": "stream",
     "text": [
      "+-----+---+\n",
      "| name|age|\n",
      "+-----+---+\n",
      "|Alice| 25|\n",
      "|  Bob| 15|\n",
      "|  Bob| 23|\n",
      "|  Ram| 45|\n",
      "+-----+---+\n",
      "\n"
     ]
    }
   ],
   "source": [
    "df1.select(\"name\",\"age\").show()"
   ]
  },
  {
   "cell_type": "code",
   "execution_count": 38,
   "metadata": {
    "collapsed": false
   },
   "outputs": [
    {
     "name": "stdout",
     "output_type": "stream",
     "text": [
      "+-----+---------+\n",
      "| name|(age * 7)|\n",
      "+-----+---------+\n",
      "|Alice|      175|\n",
      "|  Bob|      105|\n",
      "|  Bob|      161|\n",
      "|  Ram|      315|\n",
      "+-----+---------+\n",
      "\n"
     ]
    }
   ],
   "source": [
    "df1.select(df1[\"name\"],df1[\"age\"]*7).show()"
   ]
  },
  {
   "cell_type": "code",
   "execution_count": 40,
   "metadata": {
    "collapsed": false
   },
   "outputs": [
    {
     "name": "stdout",
     "output_type": "stream",
     "text": [
      "+----------------+----------+\n",
      "|substr(name,1,3)|(age * 10)|\n",
      "+----------------+----------+\n",
      "|             Ali|       250|\n",
      "|             Bob|       150|\n",
      "|             Bob|       230|\n",
      "|             Ram|       450|\n",
      "+----------------+----------+\n",
      "\n"
     ]
    }
   ],
   "source": [
    "df1.selectExpr(\"substr(name,1,3)\", \"age*10\").show()"
   ]
  },
  {
   "cell_type": "code",
   "execution_count": 41,
   "metadata": {
    "collapsed": false
   },
   "outputs": [
    {
     "name": "stdout",
     "output_type": "stream",
     "text": [
      "+---+-----+-----+\n",
      "|cid| name|state|\n",
      "+---+-----+-----+\n",
      "|101|Alice|   ca|\n",
      "|102|  Bob|   ny|\n",
      "|103|  Bob|   nc|\n",
      "|104|  Ram|   fl|\n",
      "+---+-----+-----+\n",
      "\n"
     ]
    }
   ],
   "source": [
    "df1.drop(\"age\").show()"
   ]
  },
  {
   "cell_type": "code",
   "execution_count": 42,
   "metadata": {
    "collapsed": false
   },
   "outputs": [
    {
     "name": "stdout",
     "output_type": "stream",
     "text": [
      "+---+---+-----+-----+\n",
      "|age|cid| name|state|\n",
      "+---+---+-----+-----+\n",
      "| 25|101|Alice|   ca|\n",
      "| 23|103|  Bob|   nc|\n",
      "| 45|104|  Ram|   fl|\n",
      "+---+---+-----+-----+\n",
      "\n"
     ]
    }
   ],
   "source": [
    "df1.filter(df1.age>21).show()"
   ]
  },
  {
   "cell_type": "code",
   "execution_count": 44,
   "metadata": {
    "collapsed": false
   },
   "outputs": [
    {
     "name": "stdout",
     "output_type": "stream",
     "text": [
      "+---+---+-----+-----+\n",
      "|age|cid| name|state|\n",
      "+---+---+-----+-----+\n",
      "| 25|101|Alice|   ca|\n",
      "| 15|102|  Bob|   ny|\n",
      "| 23|103|  Bob|   nc|\n",
      "| 45|104|  Ram|   fl|\n",
      "+---+---+-----+-----+\n",
      "\n"
     ]
    }
   ],
   "source": [
    "df1[(df1.age >21) | (df1.name=='Bob') ].show()"
   ]
  },
  {
   "cell_type": "code",
   "execution_count": 45,
   "metadata": {
    "collapsed": false
   },
   "outputs": [
    {
     "name": "stdout",
     "output_type": "stream",
     "text": [
      "+-----+-----+\n",
      "| name|count|\n",
      "+-----+-----+\n",
      "|  Ram|    1|\n",
      "|Alice|    1|\n",
      "|  Bob|    2|\n",
      "+-----+-----+\n",
      "\n"
     ]
    }
   ],
   "source": [
    "df1.groupBy(\"name\").count().show()"
   ]
  },
  {
   "cell_type": "code",
   "execution_count": 46,
   "metadata": {
    "collapsed": false
   },
   "outputs": [
    {
     "name": "stdout",
     "output_type": "stream",
     "text": [
      "+----+----------+\n",
      "|year|sum(price)|\n",
      "+----+----------+\n",
      "|2014|       850|\n",
      "|2015|       325|\n",
      "+----+----------+\n",
      "\n"
     ]
    }
   ],
   "source": [
    "df2.select(df2[\"date\"].substr(1,4).alias(\"year\"),\\\n",
    "           df2[\"price\"]).groupBy(\"year\").sum().show()"
   ]
  },
  {
   "cell_type": "code",
   "execution_count": 47,
   "metadata": {
    "collapsed": false
   },
   "outputs": [
    {
     "name": "stdout",
     "output_type": "stream",
     "text": [
      "+----+------------------+-----------+\n",
      "|year|        avg(price)|count(year)|\n",
      "+----+------------------+-----------+\n",
      "|2014|             850.0|          1|\n",
      "|2015|108.33333333333333|          3|\n",
      "+----+------------------+-----------+\n",
      "\n"
     ]
    }
   ],
   "source": [
    "df2.select(df2[\"date\"].substr(1,4).alias(\"year\"), \\\n",
    "           df2[\"price\"]).groupBy(\"year\") \\\n",
    "           .agg({\"price\": \"avg\", \"year\":\"count\"}).show()"
   ]
  },
  {
   "cell_type": "code",
   "execution_count": 48,
   "metadata": {
    "collapsed": false
   },
   "outputs": [
    {
     "name": "stdout",
     "output_type": "stream",
     "text": [
      "+---+---+-----+-----+---+----------+-----+-------+\n",
      "|age|cid| name|state|cid|      date|price|product|\n",
      "+---+---+-----+-----+---+----------+-----+-------+\n",
      "| 25|101|Alice|   ca|101|2015-03-12|  200|toaster|\n",
      "| 15|102|  Bob|   ny|102|2014-12-31|  850| fridge|\n",
      "| 15|102|  Bob|   ny|102|2015-02-03|    5|    cup|\n",
      "| 45|104|  Ram|   fl|104|2015-04-12|  120|   iron|\n",
      "+---+---+-----+-----+---+----------+-----+-------+\n",
      "\n"
     ]
    }
   ],
   "source": [
    "df1.join(df2, df1[\"cid\"]==df2[\"cid\"],\"inner\").show()"
   ]
  },
  {
   "cell_type": "code",
   "execution_count": 49,
   "metadata": {
    "collapsed": false
   },
   "outputs": [
    {
     "name": "stdout",
     "output_type": "stream",
     "text": [
      "+---+---+----+-----+---+----------+-----+-------+\n",
      "|age|cid|name|state|cid|      date|price|product|\n",
      "+---+---+----+-----+---+----------+-----+-------+\n",
      "| 15|102| Bob|   ny|102|2014-12-31|  850| fridge|\n",
      "+---+---+----+-----+---+----------+-----+-------+\n",
      "\n"
     ]
    }
   ],
   "source": [
    "df1.join(df2, (df1[\"cid\"]==df2[\"cid\"]) & (df2[\"price\"] > 200), \"inner\")\\\n",
    ".show()"
   ]
  },
  {
   "cell_type": "code",
   "execution_count": 50,
   "metadata": {
    "collapsed": false
   },
   "outputs": [
    {
     "name": "stdout",
     "output_type": "stream",
     "text": [
      "== Physical Plan ==\n",
      "SortMergeJoin [cid#1], [cid#4]\n",
      ":- Sort [cid#1 ASC], false, 0\n",
      ":  +- TungstenExchange hashpartitioning(cid#1,200), None\n",
      ":     +- ConvertToUnsafe\n",
      ":        +- Scan ExistingRDD[age#0L,cid#1,name#2,state#3] \n",
      "+- Sort [cid#4 ASC], false, 0\n",
      "   +- TungstenExchange hashpartitioning(cid#4,200), None\n",
      "      +- ConvertToUnsafe\n",
      "         +- Filter (price#6L > 200)\n",
      "            +- Scan ExistingRDD[cid#4,date#5,price#6L,product#7]\n"
     ]
    }
   ],
   "source": [
    "df1.join(df2, (df1[\"cid\"]==df2[\"cid\"]) & (df2[\"price\"] > 200), \"inner\")\\\n",
    ".explain()"
   ]
  },
  {
   "cell_type": "code",
   "execution_count": 51,
   "metadata": {
    "collapsed": false
   },
   "outputs": [
    {
     "name": "stdout",
     "output_type": "stream",
     "text": [
      "+----+-------+\n",
      "|year|product|\n",
      "+----+-------+\n",
      "|2015|toaster|\n",
      "|2015|   iron|\n",
      "|2014| fridge|\n",
      "|2015|    cup|\n",
      "+----+-------+\n",
      "\n"
     ]
    }
   ],
   "source": [
    "from pyspark.sql.functions import udf\n",
    "from pyspark.sql.types import IntegerType\n",
    "get_year = udf(lambda x: int(x[:4]), IntegerType())\n",
    "df2.select(get_year(df2[\"date\"]).alias(\"year\"), df2[\"product\"]).show()"
   ]
  },
  {
   "cell_type": "code",
   "execution_count": 52,
   "metadata": {
    "collapsed": false
   },
   "outputs": [
    {
     "name": "stdout",
     "output_type": "stream",
     "text": [
      "+----+\n",
      "|year|\n",
      "+----+\n",
      "|2015|\n",
      "|2015|\n",
      "|2014|\n",
      "|2015|\n",
      "+----+\n",
      "\n"
     ]
    }
   ],
   "source": [
    "df2.registerTempTable(\"my_df\")\n",
    "sqlContext.registerFunction(\"get_year\", lambda x:int(x[:4]))\n",
    "sqlContext.sql(\"select get_year(date) as year FROM my_df\").show()"
   ]
  },
  {
   "cell_type": "code",
   "execution_count": 55,
   "metadata": {
    "collapsed": false
   },
   "outputs": [
    {
     "name": "stdout",
     "output_type": "stream",
     "text": [
      "+---+---+-----+-----+----------+-----+-------+\n",
      "|cid|age| name|state|      date|price|product|\n",
      "+---+---+-----+-----+----------+-----+-------+\n",
      "|101| 25|Alice|   ca|2015-03-12|  200|toaster|\n",
      "|102| 15|  Bob|   ny|2014-12-31|  850| fridge|\n",
      "|102| 15|  Bob|   ny|2015-02-03|    5|    cup|\n",
      "|104| 45|  Ram|   fl|2015-04-12|  120|   iron|\n",
      "+---+---+-----+-----+----------+-----+-------+\n",
      "\n"
     ]
    }
   ],
   "source": [
    "df1.join(df2,\"cid\").show()\n",
    "#without duplicated"
   ]
  },
  {
   "cell_type": "code",
   "execution_count": null,
   "metadata": {
    "collapsed": true
   },
   "outputs": [],
   "source": []
  }
 ],
 "metadata": {
  "kernelspec": {
   "display_name": "Python 3",
   "language": "python",
   "name": "python3"
  },
  "language_info": {
   "codemirror_mode": {
    "name": "ipython",
    "version": 3
   },
   "file_extension": ".py",
   "mimetype": "text/x-python",
   "name": "python",
   "nbconvert_exporter": "python",
   "pygments_lexer": "ipython3",
   "version": "3.5.4"
  }
 },
 "nbformat": 4,
 "nbformat_minor": 0
}
